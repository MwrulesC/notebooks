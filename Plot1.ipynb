{
 "cells": [
  {
   "cell_type": "code",
   "execution_count": 2,
   "metadata": {
    "collapsed": true
   },
   "outputs": [],
   "source": [
    "os.chdir('./ProjectData/')"
   ]
  },
  {
   "cell_type": "code",
   "execution_count": 3,
   "metadata": {
    "collapsed": true
   },
   "outputs": [],
   "source": [
    "import numpy as np"
   ]
  },
  {
   "cell_type": "code",
   "execution_count": 4,
   "metadata": {},
   "outputs": [],
   "source": [
    "f = open('./FedRePORTER_PRJ_C_FY2016.csv')\n",
    "projectLabels = f.next().strip().split(', ')\n",
    "f.close()"
   ]
  },
  {
   "cell_type": "code",
   "execution_count": 5,
   "metadata": {},
   "outputs": [],
   "source": [
    "entries = []\n",
    "f = open('./FedRePORTER_PRJ_C_FY2016.csv')\n",
    "line = f.next()\n",
    "for line in f:\n",
    "    line = line.strip().lstrip('\"')\n",
    "    test = line.split('\",\"')\n",
    "    if len(test) < 24:\n",
    "        newline = f.next()\n",
    "        newline = newline.strip()\n",
    "        line = line + ' ' + newline\n",
    "    entries.append(line.split('\",\"'))\n",
    "f.close()"
   ]
  },
  {
   "cell_type": "code",
   "execution_count": 6,
   "metadata": {},
   "outputs": [],
   "source": [
    "project2016 = np.array(entries, dtype='str')"
   ]
  },
  {
   "cell_type": "code",
   "execution_count": 7,
   "metadata": {},
   "outputs": [],
   "source": [
    "for i in entries:\n",
    "    if len(i) != 24:\n",
    "        print i\n",
    "        break"
   ]
  },
  {
   "cell_type": "code",
   "execution_count": 8,
   "metadata": {},
   "outputs": [
    {
     "data": {
      "text/plain": [
       "['PROJECT_ID',\n",
       " 'PROJECT_TERMS',\n",
       " 'PROJECT_TITLE',\n",
       " 'DEPARTMENT',\n",
       " 'AGENCY',\n",
       " 'IC_CENTER',\n",
       " 'PROJECT_NUMBER',\n",
       " 'PROJECT_START_DATE',\n",
       " 'PROJECT_END_DATE',\n",
       " 'CONTACT_PI_PROJECT_LEADER',\n",
       " 'OTHER_PIS',\n",
       " 'CONGRESSIONAL_DISTRICT',\n",
       " 'DUNS_NUMBER',\n",
       " 'ORGANIZATION_NAME',\n",
       " 'ORGANIZATION_CITY',\n",
       " 'ORGANIZATION_STATE',\n",
       " 'ORGANIZATION_ZIP',\n",
       " 'ORGANIZATION_COUNTRY',\n",
       " 'BUDGET_START_DATE',\n",
       " 'BUDGET_END_DATE',\n",
       " 'CFDA_CODE',\n",
       " 'FY',\n",
       " 'FY_TOTAL_COST',\n",
       " 'FY_TOTAL_COST_SUB_PROJECTS']"
      ]
     },
     "execution_count": 8,
     "metadata": {},
     "output_type": "execute_result"
    }
   ],
   "source": [
    "projectLabels"
   ]
  },
  {
   "cell_type": "code",
   "execution_count": 9,
   "metadata": {},
   "outputs": [
    {
     "data": {
      "text/plain": [
       "22"
      ]
     },
     "execution_count": 9,
     "metadata": {},
     "output_type": "execute_result"
    }
   ],
   "source": [
    "projectLabels.index('FY_TOTAL_COST')"
   ]
  },
  {
   "cell_type": "code",
   "execution_count": 10,
   "metadata": {},
   "outputs": [],
   "source": [
    "agencies = set(project2016[:,4])"
   ]
  },
  {
   "cell_type": "code",
   "execution_count": 11,
   "metadata": {
    "collapsed": true
   },
   "outputs": [],
   "source": [
    "agencyBudgets = dict()\n",
    "for i in agencies:\n",
    "    agencyBudgets[i] = project2016[np.where(project2016[:,4]==i)[0],22]"
   ]
  },
  {
   "cell_type": "code",
   "execution_count": 12,
   "metadata": {
    "collapsed": true
   },
   "outputs": [],
   "source": [
    "convertedBudget = dict()\n",
    "for i in agencyBudgets:\n",
    "    cost = 0\n",
    "    missing = 0\n",
    "    for j in agencyBudgets[i]:\n",
    "        if len(j) == 0:\n",
    "            missing += 1\n",
    "        else:\n",
    "            cost += int(j)\n",
    "    convertedBudget[i] = (cost, missing)"
   ]
  },
  {
   "cell_type": "code",
   "execution_count": 13,
   "metadata": {},
   "outputs": [],
   "source": [
    "agencies = list(agencies)\n",
    "agencies.sort()"
   ]
  },
  {
   "cell_type": "code",
   "execution_count": 14,
   "metadata": {},
   "outputs": [
    {
     "name": "stdout",
     "output_type": "stream",
     "text": [
      "{'NIFA': 685948957, 'ALLCDC': 2163793342, 'NIH': 29222813776, 'Other': 1198224673, 'NSF': 4375801835}\n"
     ]
    }
   ],
   "source": [
    "plotData = dict()\n",
    "totalBudget = sum([i[0] for i in convertedBudget.values()])\n",
    "plotData['Other'] = 0\n",
    "for i in convertedBudget:\n",
    "    if convertedBudget[i][0]/float(totalBudget) < 0.015:\n",
    "        plotData['Other'] += convertedBudget[i][0]\n",
    "    else:\n",
    "        plotData[i] = convertedBudget[i][0]\n",
    "print plotData"
   ]
  },
  {
   "cell_type": "code",
   "execution_count": 17,
   "metadata": {},
   "outputs": [
    {
     "data": {
      "image/png": "[encoded data removed]",
      "text/plain": [
       "<matplotlib.figure.Figure at 0x7fadca43d750>"
      ]
     },
     "metadata": {},
     "output_type": "display_data"
    }
   ],
   "source": [
    "from pylab import *\n",
    "# make a square figure and axes\n",
    "figure(1, figsize=(10,10))\n",
    "ax = axes([0.1, 0.1, 0.8, 0.8])\n",
    "\n",
    "# The slices will be ordered and plotted counter-clockwise.\n",
    "labels = plotData.keys()\n",
    "labels.sort()\n",
    "fracs = [plotData[i] for i in labels]\n",
    "explode=[0]*5\n",
    "explode[2] = 0.05\n",
    "\n",
    "patches, texts, autotexts = pie(fracs, explode=explode, labels=labels,\n",
    "                autopct='%1.1f%%', shadow=False, startangle=90)\n",
    "                # The default startangle is 0, which would start\n",
    "                # the Frogs slice on the x-axis.  With startangle=90,\n",
    "                # everything is rotated counter-clockwise by 90 degrees,\n",
    "                # so the plotting starts on the positive y-axis.\n",
    "for t in texts:\n",
    "    t.set_size('large')\n",
    "for t in autotexts:\n",
    "    t.set_size('x-large')\n",
    "\n",
    "title('Funding Amounts by Agency for 2016', bbox={'facecolor':'0.8', 'pad':5})\n",
    "    \n",
    "show()"
   ]
  },
  {
   "cell_type": "code",
   "execution_count": null,
   "metadata": {
    "collapsed": true
   },
   "outputs": [],
   "source": []
  },
  {
   "cell_type": "code",
   "execution_count": null,
   "metadata": {
    "collapsed": true
   },
   "outputs": [],
   "source": []
  }
 ],
 "metadata": {
  "kernelspec": {
   "display_name": "Python 2",
   "language": "python",
   "name": "python2"
  },
  "language_info": {
   "codemirror_mode": {
    "name": "ipython",
    "version": 2
   },
   "file_extension": ".py",
   "mimetype": "text/x-python",
   "name": "python",
   "nbconvert_exporter": "python",
   "pygments_lexer": "ipython2",
   "version": "2.7.12"
  }
 },
 "nbformat": 4,
 "nbformat_minor": 2
}
